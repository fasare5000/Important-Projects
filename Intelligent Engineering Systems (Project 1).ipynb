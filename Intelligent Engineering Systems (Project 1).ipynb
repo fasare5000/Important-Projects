{
 "cells": [
  {
   "cell_type": "markdown",
   "metadata": {},
   "source": [
    "# Problem 1a\n",
    "The function my_reverse returns the original list if the length of the list is less or equal to 1. If the length of the list is two or more, the function uses the pop() method to get the last element in the list and applies the function recursively to the remainder of the list until it is exhausted. "
   ]
  },
  {
   "cell_type": "code",
   "execution_count": 99,
   "metadata": {},
   "outputs": [
    {
     "data": {
      "text/plain": [
       "[9, 8, 7, 6, 5, 4, 3, 2, 1]"
      ]
     },
     "execution_count": 99,
     "metadata": {},
     "output_type": "execute_result"
    }
   ],
   "source": [
    "# Problem 1a\n",
    "\n",
    "list1 = [1,2,3,4,5,6,7,8,9]\n",
    "def my_reverse(list1):\n",
    "    if len(list1) <= 1:           \n",
    "        return list1      \n",
    "    else:\n",
    "        return [list1.pop()] + my_reverse(list1)     # If the list has more than one element, the list is reversed by the recursive method and returned.\n",
    "my_reverse(list1)"
   ]
  },
  {
   "cell_type": "markdown",
   "metadata": {},
   "source": [
    "# Problem 1b\n",
    "This function takes a list as parameter and returns a new list that contains only unique elements of the list provided. It applies the iterative method to all the elements of the list and appends to the new list those elements that are not already in the new list. The function returns the new list with no duplicates. "
   ]
  },
  {
   "cell_type": "code",
   "execution_count": 100,
   "metadata": {},
   "outputs": [
    {
     "data": {
      "text/plain": [
       "[1, 2, 3, 4, 5]"
      ]
     },
     "execution_count": 100,
     "metadata": {},
     "output_type": "execute_result"
    }
   ],
   "source": [
    "# Problem 1b\n",
    "\n",
    "new_list = [1,2,1,3,1,4,5]\n",
    "def eliminate_duplicates(new_list):\n",
    "    new = []                        # Create an empty list to hold the list without duplicates\n",
    "    for item in new_list:\n",
    "        if item not in new:\n",
    "            new.append(item)        # Appending only unique elements to the new list\n",
    "    return  new                     # The function will return the new list after eliminating duplicates\n",
    "eliminate_duplicates(new_list)"
   ]
  },
  {
   "cell_type": "markdown",
   "metadata": {},
   "source": [
    "# Problem 1c\n",
    "This function takes a list of nested sublists, sorts each sublist in the list and reverses the sublists in the list. If the list contains no element, nothing is returned. If the length of the list is one, the function further checks if this element is a list and if it is, the function returns a list of reversed elements in the sublist by applying the function to the sublist. The function returns the element of the list if it is not a list. If the list is of length two or more, the function repeats this process recursively until all the sublists are reversed and sorted. The reversed and sorted sublists are finally returned as the output."
   ]
  },
  {
   "cell_type": "code",
   "execution_count": 101,
   "metadata": {},
   "outputs": [
    {
     "data": {
      "text/plain": [
       "[[6, 5, 4], [9, [3, 2, 1]]]"
      ]
     },
     "execution_count": 101,
     "metadata": {},
     "output_type": "execute_result"
    }
   ],
   "source": [
    "# Problem 1c\n",
    "\n",
    "list5 = [[[1,2,3],9],[4,5,6]]\n",
    "def mirror(list5):\n",
    "    if len(list5) == 0:\n",
    "        return \n",
    "    if len(list5) == 1:\n",
    "        if isinstance(list5[0],list):\n",
    "            return [mirror(list5[0])]\n",
    "        else:\n",
    "            return list5\n",
    "        \n",
    "    else:\n",
    "        return mirror(list5[1:]) + mirror(list5[:1])\n",
    "mirror(list5)"
   ]
  },
  {
   "cell_type": "markdown",
   "metadata": {},
   "source": [
    "# Problem 2\n",
    "A class called MyStack is created and an initailization method is defined as a function within the class. A list as a value is stored in the field(list) of the __init__() object defined. Functions to push elements into the stack, identify the topmost element and to remove the topmost element from the existing list are created. We define a variable to represent the class and call the various functions defined."
   ]
  },
  {
   "cell_type": "code",
   "execution_count": 7,
   "metadata": {},
   "outputs": [
    {
     "name": "stdout",
     "output_type": "stream",
     "text": [
      "121\n",
      "144\n",
      "[144, 121, 100, 81, 64, 49, 36, 25, 16, 9, 4, 1]\n",
      "169\n",
      "[169, 144, 121, 100, 81, 64, 49, 36, 25, 16, 9, 4, 1]\n",
      "169\n",
      "169\n"
     ]
    },
    {
     "data": {
      "text/plain": [
       "[144, 121, 100, 81, 64, 49, 36, 25, 16, 9, 4, 1]"
      ]
     },
     "execution_count": 7,
     "metadata": {},
     "output_type": "execute_result"
    }
   ],
   "source": [
    "# Problem 2\n",
    "\n",
    "class MyStack:                                    # A class\n",
    "    def __init__(self):\n",
    "        self.list = [100,81,64,49,36,25,16,9,4,1]\n",
    "        \n",
    "    def push(self, x):\n",
    "        self.list.insert(0, x)\n",
    "        print(x)\n",
    "    \n",
    "    def top(self):\n",
    "        top = self.list[0]\n",
    "        print(top)\n",
    "    \n",
    "    def pop(self):\n",
    "        delete = self.list.pop(0)\n",
    "        print(delete)\n",
    "    \n",
    "    def final_list(self):\n",
    "        return self.list\n",
    "\n",
    "s = MyStack()\n",
    "s.push(11**2)\n",
    "s.push(12**2)\n",
    "print(s.final_list())\n",
    "s.push(13**2)\n",
    "print(s.final_list())\n",
    "s.top()\n",
    "s.pop()\n",
    "s.final_list()\n",
    "    \n",
    "    "
   ]
  },
  {
   "cell_type": "markdown",
   "metadata": {},
   "source": [
    "# Problem 3a\n",
    "We define a series of functions 'before','equivalent' and 'after' that compare two elements at a time. We next define three broad functions 'before_list','equivalent_list' and 'after_list' that calls the previous functions and returns a list of elements based on the various criteria provided."
   ]
  },
  {
   "cell_type": "code",
   "execution_count": 129,
   "metadata": {},
   "outputs": [],
   "source": [
    "# Problem 3a\n",
    "\n",
    "def before(first,sec,operator = '<'):\n",
    "    if first < sec:\n",
    "        return True\n",
    "    return False\n",
    "\n",
    "def equivalent(first,sec,operator = '='):\n",
    "    if first == sec:\n",
    "        return True\n",
    "    return False\n",
    "\n",
    "\n",
    "def after(first,sec,operator = '>'):\n",
    "    if first > sec:\n",
    "        return True\n",
    "    return False\n",
    "\n",
    "\n",
    "\n",
    "def before_list(list_arg,comparing_element,operator = '<'):\n",
    "    L1 = []\n",
    "    if len(list_arg) <= 1:\n",
    "        return list_arg\n",
    "    else:\n",
    "        for num1 in list_arg:\n",
    "            if Before(num1,comparing_element,'<')==True:\n",
    "                L1.append(num1)\n",
    "        \n",
    "        \n",
    "    return L1\n",
    "Before_list(list_arg=[1,3,2,1],comparing_element=3,operator = '<')\n",
    "\n",
    "def equivalent_list(list_arg,comparing_element,operator = '='):\n",
    "    L2 = []\n",
    "    for num2 in list_arg:\n",
    "        if Equivalent(num2,comparing_element,'=') == True:\n",
    "            L2.append(num2)\n",
    "    return L2\n",
    "#Equivalent_list([1,2,2,2,3,2,3],2,'=')\n",
    "\n",
    "\n",
    "\n",
    "def after_list(list_arg,comparing_element,operator = '>'):\n",
    "    L3 = []\n",
    "    if len(list_arg) <=1:\n",
    "        return list_arg\n",
    "    else:\n",
    "        for num3 in list_arg:\n",
    "            if After(num3,comparing_element,operator = '>') == True:\n",
    "                L3.append(num3)\n",
    "    return L3        \n",
    "\n"
   ]
  },
  {
   "cell_type": "markdown",
   "metadata": {},
   "source": [
    "# Problem 3b (Ascending order)\n",
    "This function calls on the functions created in 3a to sort the three lists('before_list','equivalent_list' and 'after_list') using the recursive method. A random element is selected from the given list and the functions in 3a help group the list into three different lists. The QuickSort function is applied to the individual lists and they are appended together and returned. "
   ]
  },
  {
   "cell_type": "code",
   "execution_count": 130,
   "metadata": {},
   "outputs": [
    {
     "name": "stdout",
     "output_type": "stream",
     "text": [
      "[[2], [10], [17], [[20], [34, [45], []], [48], [52, [56], [63, [78], []]], [89], [[92], [109]]]]\n"
     ]
    },
    {
     "data": {
      "text/plain": [
       "[[23],\n",
       " [[26], [35], [43, 43], [45, [54], []]],\n",
       " [56],\n",
       " [[63], [64], [72], [], [86], [87, [89, 89], [97]]]]"
      ]
     },
     "execution_count": 130,
     "metadata": {},
     "output_type": "execute_result"
    }
   ],
   "source": [
    "# Problem 3b Ascending order\n",
    "\n",
    "import random\n",
    "\n",
    "#L = [1,2,5,1,7,9,3,3,3,3,6,10,8,7,7]\n",
    "def QuickSort(L):\n",
    "    if len(L) <= 1:\n",
    "        return L\n",
    "    else:\n",
    "        comparing_element = random.choice(L)\n",
    "        left = before_list(L,comparing_element)\n",
    "        equiv = equivalent_list(L,comparing_element)\n",
    "        after = after_list(L,comparing_element)\n",
    "        final_list = QuickSort(left)\n",
    "        final_list.append(equiv)\n",
    "        final_list.append(QuickSort(after))\n",
    "        return final_list\n",
    "print(QuickSort([10,20,17,52,48,45,63,89,34,92,2,78,109,56]))   # Running the QuickSort function on the test data.\n",
    "QuickSort([97,86,45,23,87,43,26,72,35,64,63,54,89,43,89,56])"
   ]
  },
  {
   "cell_type": "code",
   "execution_count": 138,
   "metadata": {},
   "outputs": [
    {
     "name": "stdout",
     "output_type": "stream",
     "text": [
      "[[[], [109], 89, [92], []], [78], [], [34], 2, [10], [[], [20], 17], [45], [[[], [63], 56], [52], 48]]\n"
     ]
    },
    {
     "data": {
      "text/plain": [
       "[[[[[[], [97], [89, 89], []], [87]], [86]], [72], 64],\n",
       " [63],\n",
       " [],\n",
       " [26],\n",
       " 23,\n",
       " [35],\n",
       " [[[56], [54]], [45], [43, 43], []]]"
      ]
     },
     "execution_count": 138,
     "metadata": {},
     "output_type": "execute_result"
    }
   ],
   "source": [
    "# Problem 3b Descending order\n",
    "\n",
    "import random\n",
    "\n",
    "#L = [1,2,5,1,7,9,3,3,3,3,6,10,8,7,7]\n",
    "def QuickSort(L):\n",
    "    if len(L) <= 1:\n",
    "        return L\n",
    "    else:\n",
    "        comparing_element = random.choice(L)\n",
    "        left = before_list(L,comparing_element)\n",
    "        equiv = equivalent_list(L,comparing_element)\n",
    "        after = after_list(L,comparing_element)\n",
    "        final_list = QuickSort(left)\n",
    "        final_list.append(equiv)\n",
    "        final_list.append(QuickSort(after))\n",
    "        return final_list[::-1]\n",
    "print(QuickSort([10,20,17,52,48,45,63,89,34,92,2,78,109,56]))   # Running the QuickSort function on the test data.\n",
    "QuickSort([97,86,45,23,87,43,26,72,35,64,63,54,89,43,89,56])"
   ]
  },
  {
   "cell_type": "markdown",
   "metadata": {},
   "source": [
    "# Extra credit\n",
    "This function takes a series of lists and randomly selects one list. The other lists are compared to the randomly selected list to identify which of the lists has length less than, equal to, or greater than the length of the random list. The QuickSort function is then applied to append the lists in ascending and descending order of magnitude respectively."
   ]
  },
  {
   "cell_type": "code",
   "execution_count": 139,
   "metadata": {},
   "outputs": [],
   "source": [
    "# Problem Extra credit\n",
    "import random\n",
    "\n",
    "s1 = [1,2,3,4,5]\n",
    "s2 = [1,3,7]\n",
    "s3 = [5,7,8,2,4,6]\n",
    "s4 = [2,4,6,8,8,9,9]\n",
    "S = [s1,s2,s3,s4]\n",
    "\n",
    "rand_list = random.choice(S)\n",
    "\n",
    "def before_list(S, rand_list, operator = '<'):\n",
    "    less_than = []\n",
    "    for list1 in S:\n",
    "        if len(list1) < len(rand_list):\n",
    "            less_than.append(list1)\n",
    "    return less_than\n",
    "\n",
    "#before_list(S,rand_list,'<')\n",
    "\n",
    "def equivalent_list(S, rand_list, operator = '='):\n",
    "    equal_to = []\n",
    "    for list1 in S:\n",
    "        if len(list1) == len(rand_list):\n",
    "            equal_to.append(list1)\n",
    "    return equal_to\n",
    "\n",
    "\n",
    "def after_list(S, rand_list, operator = '>'):\n",
    "    greater_than = []\n",
    "    for list1 in S:\n",
    "        if len(list1) > len(rand_list):\n",
    "            greater_than.append(list1)\n",
    "    return greater_than\n",
    "\n",
    "#after_list(S, rand_list, operator = '>')\n",
    "\n",
    "\n"
   ]
  },
  {
   "cell_type": "code",
   "execution_count": 140,
   "metadata": {},
   "outputs": [
    {
     "data": {
      "text/plain": [
       "[[[1, 2, 3, 4, 5], [1, 3, 7], [5, 7, 8, 2, 4, 6]], [[2, 4, 6, 8, 8, 9, 9]], []]"
      ]
     },
     "execution_count": 140,
     "metadata": {},
     "output_type": "execute_result"
    }
   ],
   "source": [
    "def QuickSort(S):\n",
    "    if len(S) <= 1:\n",
    "        return S\n",
    "    else:\n",
    "        rand_list = random.choice(S)\n",
    "        left = before_list(S, rand_list, operator = '<')\n",
    "        equiv = equivalent_list(S, rand_list, operator = '=')\n",
    "        after = after_list(S, rand_list, operator = '>')\n",
    "        final_list = []\n",
    "        final_list.append(left)\n",
    "        final_list.append(equiv)\n",
    "        final_list.append(after)\n",
    "        return final_list\n",
    "QuickSort(S)    "
   ]
  },
  {
   "cell_type": "code",
   "execution_count": 141,
   "metadata": {},
   "outputs": [
    {
     "data": {
      "text/plain": [
       "[[[5, 7, 8, 2, 4, 6], [2, 4, 6, 8, 8, 9, 9]], [[1, 2, 3, 4, 5]], [[1, 3, 7]]]"
      ]
     },
     "execution_count": 141,
     "metadata": {},
     "output_type": "execute_result"
    }
   ],
   "source": [
    "# Descending order\n",
    "\n",
    "def QuickSort(S):\n",
    "    if len(S) <= 1:\n",
    "        return S\n",
    "    else:\n",
    "        rand_list = random.choice(S)\n",
    "        left = before_list(S, rand_list, operator = '<')\n",
    "        equiv = equivalent_list(S, rand_list, operator = '=')\n",
    "        after = after_list(S, rand_list, operator = '>')\n",
    "        final_list = []\n",
    "        final_list.append(left)\n",
    "        final_list.append(equiv)\n",
    "        final_list.append(after)\n",
    "        return final_list[::-1]\n",
    "QuickSort(S)    "
   ]
  },
  {
   "cell_type": "code",
   "execution_count": null,
   "metadata": {},
   "outputs": [],
   "source": []
  },
  {
   "cell_type": "code",
   "execution_count": null,
   "metadata": {},
   "outputs": [],
   "source": []
  },
  {
   "cell_type": "code",
   "execution_count": null,
   "metadata": {},
   "outputs": [],
   "source": []
  }
 ],
 "metadata": {
  "kernelspec": {
   "display_name": "Python 3",
   "language": "python",
   "name": "python3"
  },
  "language_info": {
   "codemirror_mode": {
    "name": "ipython",
    "version": 3
   },
   "file_extension": ".py",
   "mimetype": "text/x-python",
   "name": "python",
   "nbconvert_exporter": "python",
   "pygments_lexer": "ipython3",
   "version": "3.7.6"
  }
 },
 "nbformat": 4,
 "nbformat_minor": 4
}
