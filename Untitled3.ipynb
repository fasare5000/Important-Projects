{
 "cells": [
  {
   "cell_type": "code",
   "execution_count": 94,
   "metadata": {},
   "outputs": [],
   "source": [
    "import numpy as np\n",
    "import pandas as pd\n",
    "%matplotlib inline\n",
    "import matplotlib.pyplot as plt\n",
    "plt.style.use('seaborn-whitegrid')\n",
    "import numpy as np\n",
    "\n",
    "from sklearn.metrics import accuracy_score\n",
    "from sklearn.model_selection import train_test_split\n",
    "from sklearn.pipeline import make_pipeline\n",
    "from sklearn.svm import SVC\n",
    "from sklearn.preprocessing import StandardScaler\n",
    "from sklearn.naive_bayes import GaussianNB\n",
    "import time\n",
    "\n",
    "\n"
   ]
  },
  {
   "cell_type": "code",
   "execution_count": 149,
   "metadata": {},
   "outputs": [],
   "source": [
    "#start_time = time.time()\n",
    "\n",
    "#data = pd.read_csv(\"train_time_series.csv\", skiprows = [1,2,3,4])\n",
    "data = pd.read_csv(\"train_time_series.csv\")"
   ]
  },
  {
   "cell_type": "code",
   "execution_count": 150,
   "metadata": {},
   "outputs": [
    {
     "data": {
      "text/html": [
       "<div>\n",
       "<style scoped>\n",
       "    .dataframe tbody tr th:only-of-type {\n",
       "        vertical-align: middle;\n",
       "    }\n",
       "\n",
       "    .dataframe tbody tr th {\n",
       "        vertical-align: top;\n",
       "    }\n",
       "\n",
       "    .dataframe thead th {\n",
       "        text-align: right;\n",
       "    }\n",
       "</style>\n",
       "<table border=\"1\" class=\"dataframe\">\n",
       "  <thead>\n",
       "    <tr style=\"text-align: right;\">\n",
       "      <th></th>\n",
       "      <th>Unnamed: 0</th>\n",
       "      <th>timestamp</th>\n",
       "      <th>UTC time</th>\n",
       "      <th>accuracy</th>\n",
       "      <th>x</th>\n",
       "      <th>y</th>\n",
       "      <th>z</th>\n",
       "    </tr>\n",
       "  </thead>\n",
       "  <tbody>\n",
       "    <tr>\n",
       "      <th>0</th>\n",
       "      <td>20586</td>\n",
       "      <td>1565109930787</td>\n",
       "      <td>2019-08-06T16:45:30.787</td>\n",
       "      <td>unknown</td>\n",
       "      <td>-0.006485</td>\n",
       "      <td>-0.934860</td>\n",
       "      <td>-0.069046</td>\n",
       "    </tr>\n",
       "    <tr>\n",
       "      <th>1</th>\n",
       "      <td>20587</td>\n",
       "      <td>1565109930887</td>\n",
       "      <td>2019-08-06T16:45:30.887</td>\n",
       "      <td>unknown</td>\n",
       "      <td>-0.066467</td>\n",
       "      <td>-1.015442</td>\n",
       "      <td>0.089554</td>\n",
       "    </tr>\n",
       "    <tr>\n",
       "      <th>2</th>\n",
       "      <td>20588</td>\n",
       "      <td>1565109930987</td>\n",
       "      <td>2019-08-06T16:45:30.987</td>\n",
       "      <td>unknown</td>\n",
       "      <td>-0.043488</td>\n",
       "      <td>-1.021255</td>\n",
       "      <td>0.178467</td>\n",
       "    </tr>\n",
       "    <tr>\n",
       "      <th>3</th>\n",
       "      <td>20589</td>\n",
       "      <td>1565109931087</td>\n",
       "      <td>2019-08-06T16:45:31.087</td>\n",
       "      <td>unknown</td>\n",
       "      <td>-0.053802</td>\n",
       "      <td>-0.987701</td>\n",
       "      <td>0.068985</td>\n",
       "    </tr>\n",
       "    <tr>\n",
       "      <th>4</th>\n",
       "      <td>20590</td>\n",
       "      <td>1565109931188</td>\n",
       "      <td>2019-08-06T16:45:31.188</td>\n",
       "      <td>unknown</td>\n",
       "      <td>-0.054031</td>\n",
       "      <td>-1.003616</td>\n",
       "      <td>0.126450</td>\n",
       "    </tr>\n",
       "  </tbody>\n",
       "</table>\n",
       "</div>"
      ],
      "text/plain": [
       "   Unnamed: 0      timestamp                 UTC time accuracy         x  \\\n",
       "0       20586  1565109930787  2019-08-06T16:45:30.787  unknown -0.006485   \n",
       "1       20587  1565109930887  2019-08-06T16:45:30.887  unknown -0.066467   \n",
       "2       20588  1565109930987  2019-08-06T16:45:30.987  unknown -0.043488   \n",
       "3       20589  1565109931087  2019-08-06T16:45:31.087  unknown -0.053802   \n",
       "4       20590  1565109931188  2019-08-06T16:45:31.188  unknown -0.054031   \n",
       "\n",
       "          y         z  \n",
       "0 -0.934860 -0.069046  \n",
       "1 -1.015442  0.089554  \n",
       "2 -1.021255  0.178467  \n",
       "3 -0.987701  0.068985  \n",
       "4 -1.003616  0.126450  "
      ]
     },
     "execution_count": 150,
     "metadata": {},
     "output_type": "execute_result"
    }
   ],
   "source": [
    "data.head()\n"
   ]
  },
  {
   "cell_type": "code",
   "execution_count": 165,
   "metadata": {},
   "outputs": [
    {
     "data": {
      "text/html": [
       "<div>\n",
       "<style scoped>\n",
       "    .dataframe tbody tr th:only-of-type {\n",
       "        vertical-align: middle;\n",
       "    }\n",
       "\n",
       "    .dataframe tbody tr th {\n",
       "        vertical-align: top;\n",
       "    }\n",
       "\n",
       "    .dataframe thead th {\n",
       "        text-align: right;\n",
       "    }\n",
       "</style>\n",
       "<table border=\"1\" class=\"dataframe\">\n",
       "  <thead>\n",
       "    <tr style=\"text-align: right;\">\n",
       "      <th></th>\n",
       "      <th>Unnamed: 0</th>\n",
       "      <th>timestamp</th>\n",
       "      <th>UTC time</th>\n",
       "      <th>label</th>\n",
       "    </tr>\n",
       "  </thead>\n",
       "  <tbody>\n",
       "    <tr>\n",
       "      <th>0</th>\n",
       "      <td>20589</td>\n",
       "      <td>1565109931087</td>\n",
       "      <td>2019-08-06T16:45:31.087</td>\n",
       "      <td>1</td>\n",
       "    </tr>\n",
       "    <tr>\n",
       "      <th>1</th>\n",
       "      <td>20599</td>\n",
       "      <td>1565109932090</td>\n",
       "      <td>2019-08-06T16:45:32.090</td>\n",
       "      <td>1</td>\n",
       "    </tr>\n",
       "    <tr>\n",
       "      <th>2</th>\n",
       "      <td>20609</td>\n",
       "      <td>1565109933092</td>\n",
       "      <td>2019-08-06T16:45:33.092</td>\n",
       "      <td>1</td>\n",
       "    </tr>\n",
       "    <tr>\n",
       "      <th>3</th>\n",
       "      <td>20619</td>\n",
       "      <td>1565109934094</td>\n",
       "      <td>2019-08-06T16:45:34.094</td>\n",
       "      <td>1</td>\n",
       "    </tr>\n",
       "    <tr>\n",
       "      <th>4</th>\n",
       "      <td>20629</td>\n",
       "      <td>1565109935097</td>\n",
       "      <td>2019-08-06T16:45:35.097</td>\n",
       "      <td>1</td>\n",
       "    </tr>\n",
       "  </tbody>\n",
       "</table>\n",
       "</div>"
      ],
      "text/plain": [
       "   Unnamed: 0      timestamp                 UTC time  label\n",
       "0       20589  1565109931087  2019-08-06T16:45:31.087      1\n",
       "1       20599  1565109932090  2019-08-06T16:45:32.090      1\n",
       "2       20609  1565109933092  2019-08-06T16:45:33.092      1\n",
       "3       20619  1565109934094  2019-08-06T16:45:34.094      1\n",
       "4       20629  1565109935097  2019-08-06T16:45:35.097      1"
      ]
     },
     "execution_count": 165,
     "metadata": {},
     "output_type": "execute_result"
    }
   ],
   "source": [
    "#labels = pd.read_csv(\"train_labels.csv\", skiprows = [1])\n",
    "labels.head()\n",
    "labels = pd.read_csv(\"train_labels.csv\")\n",
    "\n",
    "labels.head()\n"
   ]
  },
  {
   "cell_type": "code",
   "execution_count": 14,
   "metadata": {},
   "outputs": [
    {
     "data": {
      "text/plain": [
       "[1, 2, 3, 4]"
      ]
     },
     "execution_count": 14,
     "metadata": {},
     "output_type": "execute_result"
    }
   ],
   "source": [
    "np.any((labels['label']==3))\n",
    "list(range(1,5))"
   ]
  },
  {
   "cell_type": "code",
   "execution_count": 90,
   "metadata": {},
   "outputs": [
    {
     "data": {
      "text/html": [
       "<div>\n",
       "<style scoped>\n",
       "    .dataframe tbody tr th:only-of-type {\n",
       "        vertical-align: middle;\n",
       "    }\n",
       "\n",
       "    .dataframe tbody tr th {\n",
       "        vertical-align: top;\n",
       "    }\n",
       "\n",
       "    .dataframe thead th {\n",
       "        text-align: right;\n",
       "    }\n",
       "</style>\n",
       "<table border=\"1\" class=\"dataframe\">\n",
       "  <thead>\n",
       "    <tr style=\"text-align: right;\">\n",
       "      <th></th>\n",
       "      <th>Unnamed: 0</th>\n",
       "      <th>timestamp</th>\n",
       "      <th>UTC time</th>\n",
       "      <th>label</th>\n",
       "    </tr>\n",
       "  </thead>\n",
       "  <tbody>\n",
       "    <tr>\n",
       "      <th>0</th>\n",
       "      <td>24339</td>\n",
       "      <td>1565110307041</td>\n",
       "      <td>2019-08-06T16:51:47.041</td>\n",
       "      <td>NaN</td>\n",
       "    </tr>\n",
       "    <tr>\n",
       "      <th>1</th>\n",
       "      <td>24349</td>\n",
       "      <td>1565110308043</td>\n",
       "      <td>2019-08-06T16:51:48.043</td>\n",
       "      <td>NaN</td>\n",
       "    </tr>\n",
       "    <tr>\n",
       "      <th>2</th>\n",
       "      <td>24359</td>\n",
       "      <td>1565110309046</td>\n",
       "      <td>2019-08-06T16:51:49.046</td>\n",
       "      <td>NaN</td>\n",
       "    </tr>\n",
       "    <tr>\n",
       "      <th>3</th>\n",
       "      <td>24369</td>\n",
       "      <td>1565110310048</td>\n",
       "      <td>2019-08-06T16:51:50.048</td>\n",
       "      <td>NaN</td>\n",
       "    </tr>\n",
       "    <tr>\n",
       "      <th>4</th>\n",
       "      <td>24379</td>\n",
       "      <td>1565110311050</td>\n",
       "      <td>2019-08-06T16:51:51.050</td>\n",
       "      <td>NaN</td>\n",
       "    </tr>\n",
       "  </tbody>\n",
       "</table>\n",
       "</div>"
      ],
      "text/plain": [
       "   Unnamed: 0      timestamp                 UTC time  label\n",
       "0       24339  1565110307041  2019-08-06T16:51:47.041    NaN\n",
       "1       24349  1565110308043  2019-08-06T16:51:48.043    NaN\n",
       "2       24359  1565110309046  2019-08-06T16:51:49.046    NaN\n",
       "3       24369  1565110310048  2019-08-06T16:51:50.048    NaN\n",
       "4       24379  1565110311050  2019-08-06T16:51:51.050    NaN"
      ]
     },
     "execution_count": 90,
     "metadata": {},
     "output_type": "execute_result"
    }
   ],
   "source": [
    "test_labels = pd.read_csv(\"test_labels.csv\")\n",
    "test_labels.head()\n",
    "\n",
    "\n"
   ]
  },
  {
   "cell_type": "code",
   "execution_count": 181,
   "metadata": {},
   "outputs": [
    {
     "data": {
      "text/plain": [
       "(125, 3)"
      ]
     },
     "execution_count": 181,
     "metadata": {},
     "output_type": "execute_result"
    }
   ],
   "source": [
    "test_time_series = pd.read_csv(\"test_time_series.csv\")\n",
    "test_time_series.head()\n",
    "len(test_time_series)\n",
    "x_test = test_time_series[[\"x\", \"y\",\"z\"]]\n",
    "x_test = x_test.sample(125, replace=False)\n",
    "x_test.values\n",
    "#len(x_test)\n",
    "#x_test = x_test.reshape(len(x_test),-1)\n",
    "#x_test.shape\n",
    "#test = x_test\n",
    "x_test.shape"
   ]
  },
  {
   "cell_type": "raw",
   "metadata": {},
   "source": [
    "2\n"
   ]
  },
  {
   "cell_type": "code",
   "execution_count": 160,
   "metadata": {},
   "outputs": [],
   "source": [
    "x_train = data[[\"x\", \"y\", \"z\"]]"
   ]
  },
  {
   "cell_type": "code",
   "execution_count": 182,
   "metadata": {},
   "outputs": [
    {
     "data": {
      "text/plain": [
       "array([[ 1.82167053e+00, -2.63519287e+00,  1.50985718e+00],\n",
       "       [ 3.24157715e-01, -9.85855103e-01,  3.71185303e-01],\n",
       "       [-6.43920898e-03, -7.41180420e-01,  7.17163086e-04],\n",
       "       ...,\n",
       "       [ 5.23742676e-01, -1.70686340e+00,  5.59631348e-01],\n",
       "       [ 4.20410156e-01, -8.59695435e-01, -1.72271729e-02],\n",
       "       [ 4.52514648e-01, -9.84130859e-01,  3.96728516e-03]])"
      ]
     },
     "execution_count": 182,
     "metadata": {},
     "output_type": "execute_result"
    }
   ],
   "source": [
    "len(x_train)\n",
    "type(x_train)\n",
    "x_train.shape\n",
    "x_train = x_train.sample(375, replace=False)\n",
    "x_train.values"
   ]
  },
  {
   "cell_type": "code",
   "execution_count": 183,
   "metadata": {},
   "outputs": [],
   "source": [
    "#len(x_train)\n",
    "#x_train.shape\n",
    "#x_train = x_train.reshape(len(x_train),-1)\n",
    "#x_train.shape\n",
    "\n",
    "#X = x_train\n",
    "#X.shape\n"
   ]
  },
  {
   "cell_type": "code",
   "execution_count": 166,
   "metadata": {},
   "outputs": [],
   "source": [
    "y_train = labels[\"label\"].values.astype (int)"
   ]
  },
  {
   "cell_type": "code",
   "execution_count": 169,
   "metadata": {},
   "outputs": [
    {
     "data": {
      "text/plain": [
       "(375,)"
      ]
     },
     "execution_count": 169,
     "metadata": {},
     "output_type": "execute_result"
    }
   ],
   "source": [
    "y_train\n",
    "len(y_train)\n",
    "y_train.shape\n",
    "#type(y_train)\n",
    "\n"
   ]
  },
  {
   "cell_type": "code",
   "execution_count": 170,
   "metadata": {},
   "outputs": [],
   "source": [
    "from sklearn.linear_model import LogisticRegression\n",
    "#model = LogisticRegression()\n",
    "#model = make_pipeline (StandardScaler (), SVC (gamma = \"auto\"))\n",
    "model = GaussianNB()\n",
    "\n",
    "\n",
    "#y_test = train_test_split(X, Y, test_size = 0.2, random_state = 42)\n",
    "#print(X_test.shape)\n",
    "#print(X_train.shape)\n",
    "#print(y_test.shape)\n",
    "#print(y_train.shape)\n",
    "#len(y_test)\n"
   ]
  },
  {
   "cell_type": "code",
   "execution_count": 210,
   "metadata": {},
   "outputs": [],
   "source": [
    "for i in range(100000):\n",
    "    x_train = data[[\"x\", \"y\", \"z\"]]\n",
    "    x_train = x_train.sample(375, replace=False)\n",
    "    x_train.values\n",
    "\n",
    "    model = model.fit(x_train,y_train)"
   ]
  },
  {
   "cell_type": "code",
   "execution_count": 218,
   "metadata": {},
   "outputs": [
    {
     "name": "stdout",
     "output_type": "stream",
     "text": [
      "The code runtime is 0.0026438236236572266 seconds \n"
     ]
    },
    {
     "data": {
      "text/plain": [
       "array([2, 2, 2, 2, 2, 2, 2, 2, 2, 2, 2, 2, 2, 2, 2, 2, 2, 2, 2, 2, 2, 2,\n",
       "       2, 2, 2, 2, 2, 2, 2, 2, 2, 2, 2, 2, 2, 2, 2, 2, 2, 2, 2, 2, 2, 2,\n",
       "       2, 2, 2, 2, 2, 2, 3, 3, 2, 2, 2, 2, 2, 2, 2, 2, 2, 2, 2, 2, 2, 2,\n",
       "       2, 3, 2, 2, 3, 3, 2, 2, 2, 2, 2, 2, 2, 2, 2, 2, 2, 2, 2, 2, 2, 2,\n",
       "       2, 2, 2, 2, 2, 3, 2, 2, 2, 2, 2, 2, 3, 2, 2, 3, 2, 2, 3, 2, 2, 2,\n",
       "       2, 3, 2, 2, 2, 2, 2, 2, 2, 2, 2, 2, 2, 2, 2])"
      ]
     },
     "execution_count": 218,
     "metadata": {},
     "output_type": "execute_result"
    }
   ],
   "source": [
    "start_time = time.time()\n",
    "\n",
    "pred_labels = model.predict(x_test)\n",
    "pred_labels\n",
    "print(\"The code runtime is %s seconds \" % (time.time() - start_time))\n",
    "\n",
    "#pred_labels.tofile(\"predicted_labels.csv\")\n",
    "#pred_labels.shape\n",
    "#y_train.shape\n",
    "np.array(pred_labels)\n",
    "#os.getcwd()\n",
    "#labels = \"/Users/asare/predicted_labels.csv\"\n",
    "#pd.read_csv(\"labels\")\n"
   ]
  },
  {
   "cell_type": "code",
   "execution_count": 176,
   "metadata": {},
   "outputs": [],
   "source": [
    "#model.score(pred_labels,y_train)"
   ]
  },
  {
   "cell_type": "code",
   "execution_count": 65,
   "metadata": {},
   "outputs": [
    {
     "name": "stdout",
     "output_type": "stream",
     "text": [
      "--- 0.00018978118896484375 seconds ---\n"
     ]
    }
   ],
   "source": [
    "#start_time = time.time()\n",
    "\n",
    "#print(\"--- %s seconds ---\" % (time.time() - start_time))"
   ]
  },
  {
   "cell_type": "code",
   "execution_count": 2,
   "metadata": {},
   "outputs": [
    {
     "data": {
      "text/plain": [
       "['untitled11.py',\n",
       " 'corr_whisky.pdf',\n",
       " '.Rhistory',\n",
       " 'Music',\n",
       " 'untitled4.py',\n",
       " 'hist.pdf',\n",
       " 'myplot.pdf',\n",
       " '.condarc',\n",
       " 'untitled0.py',\n",
       " 'Untitled1.ipynb',\n",
       " 'untitled14.py',\n",
       " '.vim',\n",
       " 'train_labels.csv',\n",
       " '.DS_Store',\n",
       " 'untitled1.py',\n",
       " 'test_labels.csv',\n",
       " '.CFUserTextEncoding',\n",
       " 'untitled10.py',\n",
       " 'book_dir',\n",
       " 'java_error_in_pycharm_661.log',\n",
       " 'Untitled3.ipynb',\n",
       " 'untitled5.py',\n",
       " 'felix',\n",
       " '3traj.pdf',\n",
       " 'Untitled.ipynb',\n",
       " '.zshrc',\n",
       " 'er_graph.pdf',\n",
       " 'Untitled4.ipynb',\n",
       " '.local',\n",
       " 'Pictures',\n",
       " 'fig.pdf',\n",
       " 'iris.pdf',\n",
       " 'map.pdf',\n",
       " '.zprofile',\n",
       " 'iris_grid.pdf',\n",
       " 'pred_labels.csv',\n",
       " 'hist1.pdf',\n",
       " 'train_time_series.csv',\n",
       " 'corr_flavor.png',\n",
       " '.zsh_history',\n",
       " 'Untitled2.ipynb',\n",
       " '.ipython',\n",
       " 'pd_hist.pdf',\n",
       " 'Desktop',\n",
       " 'Library',\n",
       " '.matplotlib',\n",
       " 'bivardata.pdf',\n",
       " 'corr_flavor.pdf',\n",
       " 'whiskies.txt',\n",
       " '.spyder-py3',\n",
       " 'bird_tracking.csv',\n",
       " 'predicted_labels.csv',\n",
       " 'test_time_series.csv',\n",
       " 'regions.txt',\n",
       " 'untitled8.py',\n",
       " 'knn_synth_5.pdf',\n",
       " 'array.csv',\n",
       " 'asare.pdf',\n",
       " 'PycharmProjects',\n",
       " 'Public',\n",
       " '.idlerc',\n",
       " 'timeplot.pdf',\n",
       " '.RData',\n",
       " 'Spatial_Example.html',\n",
       " 'FelixDir',\n",
       " '.anaconda',\n",
       " 'Movies',\n",
       " 'correlations.pdf',\n",
       " 'untitled9.py',\n",
       " 'opt',\n",
       " 'java_error_in_pycharm_540.log',\n",
       " '.Trash',\n",
       " '.ipynb_checkpoints',\n",
       " 'village_hist.pdf',\n",
       " '.jupyter',\n",
       " 'dms.pdf',\n",
       " 'Documents',\n",
       " 'untitled2.py',\n",
       " 'Basic_Example.html',\n",
       " '.rstudio-desktop',\n",
       " 'java_error_in_pycharm_530.log',\n",
       " '.kite',\n",
       " 'untitled6.py',\n",
       " 'karate_club_graph.pdf',\n",
       " 'Downloads',\n",
       " 'village2.pdf',\n",
       " 'iBackupBot',\n",
       " 'untitled12.py',\n",
       " 'adj_allVillageRelationships_vilno_1.csv',\n",
       " 'HarvardX PH526x Certificate | edX.pdf',\n",
       " 'untitled7.py',\n",
       " '.zsh_sessions',\n",
       " 'Whisky Correlations.html',\n",
       " 'village1.pdf',\n",
       " 'adj_allVillageRelationships_vilno_2.csv',\n",
       " '.conda',\n",
       " 'untitled3.py',\n",
       " '.idea']"
      ]
     },
     "execution_count": 2,
     "metadata": {},
     "output_type": "execute_result"
    }
   ],
   "source": [
    "import os\n",
    "os.listdir()"
   ]
  },
  {
   "cell_type": "code",
   "execution_count": 122,
   "metadata": {},
   "outputs": [
    {
     "data": {
      "text/plain": [
       "[1, 2, 3, 4, 5, 6, 7, 8, 9]"
      ]
     },
     "execution_count": 122,
     "metadata": {},
     "output_type": "execute_result"
    }
   ],
   "source": [
    "list(range(1,10))"
   ]
  },
  {
   "cell_type": "code",
   "execution_count": null,
   "metadata": {},
   "outputs": [],
   "source": [
    "\n"
   ]
  },
  {
   "cell_type": "code",
   "execution_count": null,
   "metadata": {},
   "outputs": [],
   "source": []
  }
 ],
 "metadata": {
  "kernelspec": {
   "display_name": "Python 3",
   "language": "python",
   "name": "python3"
  },
  "language_info": {
   "codemirror_mode": {
    "name": "ipython",
    "version": 3
   },
   "file_extension": ".py",
   "mimetype": "text/x-python",
   "name": "python",
   "nbconvert_exporter": "python",
   "pygments_lexer": "ipython3",
   "version": "3.7.6"
  }
 },
 "nbformat": 4,
 "nbformat_minor": 4
}
