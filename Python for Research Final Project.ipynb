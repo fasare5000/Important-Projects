{
 "cells": [
  {
   "cell_type": "code",
   "execution_count": 3,
   "metadata": {},
   "outputs": [],
   "source": [
    "## Introduction : The goal of this project is to attempt to predict the type of physical activity(standing,walking,stairs up,stairs down)from tri-axial smartphone accelerometer data\n",
    "\n",
    "## Input Data : The input data used for training in this project consists of two files. The first file, train_time_series.csv, contains the raw accelerometer data, which has been collected using the Beiwe research platform.\n",
    "            # The second file, train_labels.csv, contains the activity labels, and you'll be using these labels to train your model. Different activities have been numbered with integers. We use the following encoding: 1 = standing, 2 = walking, 3 = stairs down, 4 = stairs up\n",
    "\n",
    "\n",
    "## Steps : I first obtain the required training datasets by cleaning the provided data.I do this by reducing the data and then reshaping.\n",
    "##         I then visualize the data to see relationships between various variables.\n",
    "##.        Next I employ 6 models to verify which works well for my data\n",
    "##.        I use my training datasets to train the best of the 6 models.\n",
    "##         Finally I will predict the labels(the physical activity)\n",
    "\n",
    "\n",
    "# Load libraries\n",
    "import numpy as np\n",
    "import pandas as pd\n",
    "%matplotlib inline\n",
    "import matplotlib.pyplot as plt\n",
    "plt.style.use('seaborn-whitegrid')\n",
    "from pandas.plotting import scatter_matrix\n",
    "from sklearn import model_selection\n",
    "from sklearn.metrics import classification_report\n",
    "from sklearn.metrics import confusion_matrix\n",
    "from sklearn.metrics import accuracy_score\n",
    "from sklearn.linear_model import LogisticRegression\n",
    "from sklearn.tree import DecisionTreeClassifier\n",
    "from sklearn.neighbors import KNeighborsClassifier\n",
    "from sklearn.discriminant_analysis import LinearDiscriminantAnalysis\n",
    "from sklearn.model_selection import train_test_split\n",
    "from sklearn.pipeline import make_pipeline\n",
    "from sklearn.svm import SVC\n",
    "from sklearn.preprocessing import StandardScaler\n",
    "from sklearn.naive_bayes import GaussianNB\n",
    "import time\n",
    "\n"
   ]
  },
  {
   "cell_type": "code",
   "execution_count": 8,
   "metadata": {},
   "outputs": [
    {
     "data": {
      "text/html": [
       "<div>\n",
       "<style scoped>\n",
       "    .dataframe tbody tr th:only-of-type {\n",
       "        vertical-align: middle;\n",
       "    }\n",
       "\n",
       "    .dataframe tbody tr th {\n",
       "        vertical-align: top;\n",
       "    }\n",
       "\n",
       "    .dataframe thead th {\n",
       "        text-align: right;\n",
       "    }\n",
       "</style>\n",
       "<table border=\"1\" class=\"dataframe\">\n",
       "  <thead>\n",
       "    <tr style=\"text-align: right;\">\n",
       "      <th></th>\n",
       "      <th>Unnamed: 0</th>\n",
       "      <th>timestamp</th>\n",
       "      <th>UTC time</th>\n",
       "      <th>accuracy</th>\n",
       "      <th>x</th>\n",
       "      <th>y</th>\n",
       "      <th>z</th>\n",
       "    </tr>\n",
       "  </thead>\n",
       "  <tbody>\n",
       "    <tr>\n",
       "      <th>0</th>\n",
       "      <td>20586</td>\n",
       "      <td>1565109930787</td>\n",
       "      <td>2019-08-06T16:45:30.787</td>\n",
       "      <td>unknown</td>\n",
       "      <td>-0.006485</td>\n",
       "      <td>-0.934860</td>\n",
       "      <td>-0.069046</td>\n",
       "    </tr>\n",
       "    <tr>\n",
       "      <th>1</th>\n",
       "      <td>20587</td>\n",
       "      <td>1565109930887</td>\n",
       "      <td>2019-08-06T16:45:30.887</td>\n",
       "      <td>unknown</td>\n",
       "      <td>-0.066467</td>\n",
       "      <td>-1.015442</td>\n",
       "      <td>0.089554</td>\n",
       "    </tr>\n",
       "    <tr>\n",
       "      <th>2</th>\n",
       "      <td>20588</td>\n",
       "      <td>1565109930987</td>\n",
       "      <td>2019-08-06T16:45:30.987</td>\n",
       "      <td>unknown</td>\n",
       "      <td>-0.043488</td>\n",
       "      <td>-1.021255</td>\n",
       "      <td>0.178467</td>\n",
       "    </tr>\n",
       "    <tr>\n",
       "      <th>3</th>\n",
       "      <td>20589</td>\n",
       "      <td>1565109931087</td>\n",
       "      <td>2019-08-06T16:45:31.087</td>\n",
       "      <td>unknown</td>\n",
       "      <td>-0.053802</td>\n",
       "      <td>-0.987701</td>\n",
       "      <td>0.068985</td>\n",
       "    </tr>\n",
       "    <tr>\n",
       "      <th>4</th>\n",
       "      <td>20590</td>\n",
       "      <td>1565109931188</td>\n",
       "      <td>2019-08-06T16:45:31.188</td>\n",
       "      <td>unknown</td>\n",
       "      <td>-0.054031</td>\n",
       "      <td>-1.003616</td>\n",
       "      <td>0.126450</td>\n",
       "    </tr>\n",
       "  </tbody>\n",
       "</table>\n",
       "</div>"
      ],
      "text/plain": [
       "   Unnamed: 0      timestamp                 UTC time accuracy         x  \\\n",
       "0       20586  1565109930787  2019-08-06T16:45:30.787  unknown -0.006485   \n",
       "1       20587  1565109930887  2019-08-06T16:45:30.887  unknown -0.066467   \n",
       "2       20588  1565109930987  2019-08-06T16:45:30.987  unknown -0.043488   \n",
       "3       20589  1565109931087  2019-08-06T16:45:31.087  unknown -0.053802   \n",
       "4       20590  1565109931188  2019-08-06T16:45:31.188  unknown -0.054031   \n",
       "\n",
       "          y         z  \n",
       "0 -0.934860 -0.069046  \n",
       "1 -1.015442  0.089554  \n",
       "2 -1.021255  0.178467  \n",
       "3 -0.987701  0.068985  \n",
       "4 -1.003616  0.126450  "
      ]
     },
     "execution_count": 8,
     "metadata": {},
     "output_type": "execute_result"
    }
   ],
   "source": [
    "# Reading the train_time_series csv file\n",
    "start_time = time.time()\n",
    "data = pd.read_csv(\"train_time_series.csv\")\n",
    "data.head()"
   ]
  },
  {
   "cell_type": "code",
   "execution_count": 13,
   "metadata": {},
   "outputs": [
    {
     "data": {
      "text/html": [
       "<div>\n",
       "<style scoped>\n",
       "    .dataframe tbody tr th:only-of-type {\n",
       "        vertical-align: middle;\n",
       "    }\n",
       "\n",
       "    .dataframe tbody tr th {\n",
       "        vertical-align: top;\n",
       "    }\n",
       "\n",
       "    .dataframe thead th {\n",
       "        text-align: right;\n",
       "    }\n",
       "</style>\n",
       "<table border=\"1\" class=\"dataframe\">\n",
       "  <thead>\n",
       "    <tr style=\"text-align: right;\">\n",
       "      <th></th>\n",
       "      <th>x</th>\n",
       "      <th>y</th>\n",
       "      <th>z</th>\n",
       "    </tr>\n",
       "  </thead>\n",
       "  <tbody>\n",
       "    <tr>\n",
       "      <th>count</th>\n",
       "      <td>3744.000000</td>\n",
       "      <td>3744.000000</td>\n",
       "      <td>3744.000000</td>\n",
       "    </tr>\n",
       "    <tr>\n",
       "      <th>mean</th>\n",
       "      <td>0.195821</td>\n",
       "      <td>-1.005256</td>\n",
       "      <td>0.084435</td>\n",
       "    </tr>\n",
       "    <tr>\n",
       "      <th>std</th>\n",
       "      <td>0.395698</td>\n",
       "      <td>0.451178</td>\n",
       "      <td>0.350817</td>\n",
       "    </tr>\n",
       "    <tr>\n",
       "      <th>min</th>\n",
       "      <td>-1.071152</td>\n",
       "      <td>-3.391312</td>\n",
       "      <td>-1.415390</td>\n",
       "    </tr>\n",
       "    <tr>\n",
       "      <th>25%</th>\n",
       "      <td>-0.021503</td>\n",
       "      <td>-1.148064</td>\n",
       "      <td>-0.068581</td>\n",
       "    </tr>\n",
       "    <tr>\n",
       "      <th>50%</th>\n",
       "      <td>0.161728</td>\n",
       "      <td>-0.958015</td>\n",
       "      <td>0.052116</td>\n",
       "    </tr>\n",
       "    <tr>\n",
       "      <th>75%</th>\n",
       "      <td>0.400677</td>\n",
       "      <td>-0.769691</td>\n",
       "      <td>0.203800</td>\n",
       "    </tr>\n",
       "    <tr>\n",
       "      <th>max</th>\n",
       "      <td>2.503098</td>\n",
       "      <td>0.321747</td>\n",
       "      <td>2.587173</td>\n",
       "    </tr>\n",
       "  </tbody>\n",
       "</table>\n",
       "</div>"
      ],
      "text/plain": [
       "                 x            y            z\n",
       "count  3744.000000  3744.000000  3744.000000\n",
       "mean      0.195821    -1.005256     0.084435\n",
       "std       0.395698     0.451178     0.350817\n",
       "min      -1.071152    -3.391312    -1.415390\n",
       "25%      -0.021503    -1.148064    -0.068581\n",
       "50%       0.161728    -0.958015     0.052116\n",
       "75%       0.400677    -0.769691     0.203800\n",
       "max       2.503098     0.321747     2.587173"
      ]
     },
     "execution_count": 13,
     "metadata": {},
     "output_type": "execute_result"
    }
   ],
   "source": [
    "# Reducing data to a form useful for analysis\n",
    "# Describe data\n",
    "data = data[[\"x\",\"y\",\"z\"]]\n",
    "data.head()\n",
    "data.describe()\n"
   ]
  },
  {
   "cell_type": "code",
   "execution_count": 15,
   "metadata": {},
   "outputs": [
    {
     "data": {
      "image/png": "[encoded data removed]",
      "text/plain": [
       "<Figure size 432x288 with 4 Axes>"
      ]
     },
     "metadata": {},
     "output_type": "display_data"
    }
   ],
   "source": [
    "# Univariate plots to visualize individual datasets\n",
    "# Visualize data with boxplot to identify normality\n",
    "data.plot(kind = 'box', subplots = True, layout=(2,2), sharex=False, sharey = False)\n",
    "plt.show()"
   ]
  },
  {
   "cell_type": "code",
   "execution_count": 16,
   "metadata": {},
   "outputs": [
    {
     "data": {
      "image/png": "[encoded data removed]",
      "text/plain": [
       "<Figure size 432x288 with 4 Axes>"
      ]
     },
     "metadata": {},
     "output_type": "display_data"
    }
   ],
   "source": [
    "# Visualize with histogram\n",
    "data.hist()\n",
    "plt.show()\n",
    "# It can be seen that x follows the gaussian distribution, whereas y and z are skewed"
   ]
  },
  {
   "cell_type": "code",
   "execution_count": 17,
   "metadata": {},
   "outputs": [
    {
     "data": {
      "image/png": "[encoded data removed]",
      "text/plain": [
       "<Figure size 432x288 with 9 Axes>"
      ]
     },
     "metadata": {},
     "output_type": "display_data"
    }
   ],
   "source": [
    "# Multivariate plots to visualize high correlations and predictable relationships.\n",
    "scatter_matrix(data)\n",
    "plt.show()"
   ]
  },
  {
   "cell_type": "code",
   "execution_count": 20,
   "metadata": {},
   "outputs": [
    {
     "data": {
      "text/plain": [
       "(375, 1)"
      ]
     },
     "execution_count": 20,
     "metadata": {},
     "output_type": "execute_result"
    }
   ],
   "source": [
    "# Read the labels\n",
    "labels = pd.read_csv(\"train_labels.csv\")\n",
    "labels.head()\n",
    "labels = labels[[\"label\"]]\n",
    "labels.head()\n",
    "labels.shape\n"
   ]
  },
  {
   "cell_type": "code",
   "execution_count": 38,
   "metadata": {},
   "outputs": [
    {
     "name": "stdout",
     "output_type": "stream",
     "text": [
      "(374, 10, 3) (374,)\n",
      "(374, 30) (374,)\n"
     ]
    }
   ],
   "source": [
    "# Obtain x_train and y_train from data and labels respectively\n",
    "# Clean data and labels datasets to ensure uniformity in length\n",
    "data = pd.read_csv(\"train_time_series.csv\", skiprows = [1,2,3,4]) # skip first 4 rows of data\n",
    "data = data[[\"x\",\"y\",\"z\"]]\n",
    "data.shape\n",
    "labels = pd.read_csv(\"train_labels.csv\", skiprows = [1]) # skip first row of labels\n",
    "X = data.values.reshape(-1,10,3)                         # Convert data to numpy array and reshape\n",
    "Y = labels[\"label\"].values.astype(int)                   # Convert labels to numpy array\n",
    "print(X.shape,Y.shape)                                   # (374, 10, 3) (374,)\n",
    "X_flatten = X.reshape(len(X),-1)                         # (374, 10, 3)->(374, 30)\n",
    "print(X_flatten.shape, Y.shape)\n",
    "x_train = X_flatten                                      # Training datasets\n",
    "y_train = Y"
   ]
  },
  {
   "cell_type": "code",
   "execution_count": 39,
   "metadata": {},
   "outputs": [],
   "source": [
    "seed = 6\n",
    "scoring = 'accuracy'\n"
   ]
  },
  {
   "cell_type": "code",
   "execution_count": 89,
   "metadata": {
    "scrolled": false
   },
   "outputs": [
    {
     "name": "stderr",
     "output_type": "stream",
     "text": [
      "/Users/asare/opt/anaconda3/lib/python3.7/site-packages/sklearn/linear_model/_logistic.py:940: ConvergenceWarning: lbfgs failed to converge (status=1):\n",
      "STOP: TOTAL NO. of ITERATIONS REACHED LIMIT.\n",
      "\n",
      "Increase the number of iterations (max_iter) or scale the data as shown in:\n",
      "    https://scikit-learn.org/stable/modules/preprocessing.html\n",
      "Please also refer to the documentation for alternative solver options:\n",
      "    https://scikit-learn.org/stable/modules/linear_model.html#logistic-regression\n",
      "  extra_warning_msg=_LOGISTIC_SOLVER_CONVERGENCE_MSG)\n",
      "/Users/asare/opt/anaconda3/lib/python3.7/site-packages/sklearn/linear_model/_logistic.py:940: ConvergenceWarning: lbfgs failed to converge (status=1):\n",
      "STOP: TOTAL NO. of ITERATIONS REACHED LIMIT.\n",
      "\n",
      "Increase the number of iterations (max_iter) or scale the data as shown in:\n",
      "    https://scikit-learn.org/stable/modules/preprocessing.html\n",
      "Please also refer to the documentation for alternative solver options:\n",
      "    https://scikit-learn.org/stable/modules/linear_model.html#logistic-regression\n",
      "  extra_warning_msg=_LOGISTIC_SOLVER_CONVERGENCE_MSG)\n",
      "/Users/asare/opt/anaconda3/lib/python3.7/site-packages/sklearn/linear_model/_logistic.py:940: ConvergenceWarning: lbfgs failed to converge (status=1):\n",
      "STOP: TOTAL NO. of ITERATIONS REACHED LIMIT.\n",
      "\n",
      "Increase the number of iterations (max_iter) or scale the data as shown in:\n",
      "    https://scikit-learn.org/stable/modules/preprocessing.html\n",
      "Please also refer to the documentation for alternative solver options:\n",
      "    https://scikit-learn.org/stable/modules/linear_model.html#logistic-regression\n",
      "  extra_warning_msg=_LOGISTIC_SOLVER_CONVERGENCE_MSG)\n",
      "/Users/asare/opt/anaconda3/lib/python3.7/site-packages/sklearn/linear_model/_logistic.py:940: ConvergenceWarning: lbfgs failed to converge (status=1):\n",
      "STOP: TOTAL NO. of ITERATIONS REACHED LIMIT.\n",
      "\n",
      "Increase the number of iterations (max_iter) or scale the data as shown in:\n",
      "    https://scikit-learn.org/stable/modules/preprocessing.html\n",
      "Please also refer to the documentation for alternative solver options:\n",
      "    https://scikit-learn.org/stable/modules/linear_model.html#logistic-regression\n",
      "  extra_warning_msg=_LOGISTIC_SOLVER_CONVERGENCE_MSG)\n",
      "/Users/asare/opt/anaconda3/lib/python3.7/site-packages/sklearn/linear_model/_logistic.py:940: ConvergenceWarning: lbfgs failed to converge (status=1):\n",
      "STOP: TOTAL NO. of ITERATIONS REACHED LIMIT.\n",
      "\n",
      "Increase the number of iterations (max_iter) or scale the data as shown in:\n",
      "    https://scikit-learn.org/stable/modules/preprocessing.html\n",
      "Please also refer to the documentation for alternative solver options:\n",
      "    https://scikit-learn.org/stable/modules/linear_model.html#logistic-regression\n",
      "  extra_warning_msg=_LOGISTIC_SOLVER_CONVERGENCE_MSG)\n",
      "/Users/asare/opt/anaconda3/lib/python3.7/site-packages/sklearn/linear_model/_logistic.py:940: ConvergenceWarning: lbfgs failed to converge (status=1):\n",
      "STOP: TOTAL NO. of ITERATIONS REACHED LIMIT.\n",
      "\n",
      "Increase the number of iterations (max_iter) or scale the data as shown in:\n",
      "    https://scikit-learn.org/stable/modules/preprocessing.html\n",
      "Please also refer to the documentation for alternative solver options:\n",
      "    https://scikit-learn.org/stable/modules/linear_model.html#logistic-regression\n",
      "  extra_warning_msg=_LOGISTIC_SOLVER_CONVERGENCE_MSG)\n",
      "/Users/asare/opt/anaconda3/lib/python3.7/site-packages/sklearn/linear_model/_logistic.py:940: ConvergenceWarning: lbfgs failed to converge (status=1):\n",
      "STOP: TOTAL NO. of ITERATIONS REACHED LIMIT.\n",
      "\n",
      "Increase the number of iterations (max_iter) or scale the data as shown in:\n",
      "    https://scikit-learn.org/stable/modules/preprocessing.html\n",
      "Please also refer to the documentation for alternative solver options:\n",
      "    https://scikit-learn.org/stable/modules/linear_model.html#logistic-regression\n",
      "  extra_warning_msg=_LOGISTIC_SOLVER_CONVERGENCE_MSG)\n",
      "/Users/asare/opt/anaconda3/lib/python3.7/site-packages/sklearn/linear_model/_logistic.py:940: ConvergenceWarning: lbfgs failed to converge (status=1):\n",
      "STOP: TOTAL NO. of ITERATIONS REACHED LIMIT.\n",
      "\n",
      "Increase the number of iterations (max_iter) or scale the data as shown in:\n",
      "    https://scikit-learn.org/stable/modules/preprocessing.html\n",
      "Please also refer to the documentation for alternative solver options:\n",
      "    https://scikit-learn.org/stable/modules/linear_model.html#logistic-regression\n",
      "  extra_warning_msg=_LOGISTIC_SOLVER_CONVERGENCE_MSG)\n",
      "/Users/asare/opt/anaconda3/lib/python3.7/site-packages/sklearn/linear_model/_logistic.py:940: ConvergenceWarning: lbfgs failed to converge (status=1):\n",
      "STOP: TOTAL NO. of ITERATIONS REACHED LIMIT.\n",
      "\n",
      "Increase the number of iterations (max_iter) or scale the data as shown in:\n",
      "    https://scikit-learn.org/stable/modules/preprocessing.html\n",
      "Please also refer to the documentation for alternative solver options:\n",
      "    https://scikit-learn.org/stable/modules/linear_model.html#logistic-regression\n",
      "  extra_warning_msg=_LOGISTIC_SOLVER_CONVERGENCE_MSG)\n",
      "/Users/asare/opt/anaconda3/lib/python3.7/site-packages/sklearn/linear_model/_logistic.py:940: ConvergenceWarning: lbfgs failed to converge (status=1):\n",
      "STOP: TOTAL NO. of ITERATIONS REACHED LIMIT.\n",
      "\n",
      "Increase the number of iterations (max_iter) or scale the data as shown in:\n",
      "    https://scikit-learn.org/stable/modules/preprocessing.html\n",
      "Please also refer to the documentation for alternative solver options:\n",
      "    https://scikit-learn.org/stable/modules/linear_model.html#logistic-regression\n",
      "  extra_warning_msg=_LOGISTIC_SOLVER_CONVERGENCE_MSG)\n"
     ]
    },
    {
     "name": "stdout",
     "output_type": "stream",
     "text": [
      "LR: 0.492532 (0.311320)\n",
      "LDA: 0.502987 (0.280252)\n",
      "KN: 0.558108 (0.226534)\n",
      "CART: 0.510313 (0.170819)\n",
      "GA: 0.507610 (0.175597)\n",
      "SVM: 0.569417 (0.368966)\n"
     ]
    }
   ],
   "source": [
    "# Checking which model is best suited for the dataset\n",
    "models = []\n",
    "models.append(('LR', LogisticRegression()))\n",
    "models.append(('LDA', LinearDiscriminantAnalysis()))\n",
    "models.append(('KN', KNeighborsClassifier()))\n",
    "models.append(('CART', DecisionTreeClassifier()))\n",
    "models.append(('GA', GaussianNB()))\n",
    "models.append(('SVM', SVC()))\n",
    "#models.append(('MP', StandardScaler (), SVC (gamma = \"auto\")))\n",
    "\n",
    "results = []\n",
    "names = []\n",
    "for name, model in models:\n",
    "    kfold = model_selection.KFold(n_splits = 10, random_state = None)\n",
    "    cv_results = model_selection.cross_val_score(model,x_train,y_train, cv=kfold, scoring=scoring)\n",
    "    results.append(cv_results)\n",
    "    names.append(name)\n",
    "    msg = \"%s: %f (%f)\" % (name, cv_results.mean(), cv_results.std())\n",
    "    print(msg)\n",
    "    \n",
    "# SVC works better for the dataset\n"
   ]
  },
  {
   "cell_type": "code",
   "execution_count": 99,
   "metadata": {},
   "outputs": [
    {
     "data": {
      "text/plain": [
       "Pipeline(memory=None,\n",
       "         steps=[('standardscaler',\n",
       "                 StandardScaler(copy=True, with_mean=True, with_std=True)),\n",
       "                ('svc',\n",
       "                 SVC(C=1.0, break_ties=False, cache_size=200, class_weight=None,\n",
       "                     coef0=0.0, decision_function_shape='ovr', degree=3,\n",
       "                     gamma='auto', kernel='rbf', max_iter=-1, probability=False,\n",
       "                     random_state=None, shrinking=True, tol=0.001,\n",
       "                     verbose=False))],\n",
       "         verbose=False)"
      ]
     },
     "execution_count": 99,
     "metadata": {},
     "output_type": "execute_result"
    }
   ],
   "source": [
    "# Training the model with the x_train and y_train datasets\n",
    "model = make_pipeline (StandardScaler (), SVC (gamma = \"auto\"))\n",
    "model.fit (x_train, y_train)\n"
   ]
  },
  {
   "cell_type": "code",
   "execution_count": 100,
   "metadata": {},
   "outputs": [
    {
     "data": {
      "text/plain": [
       "(125, 30)"
      ]
     },
     "execution_count": 100,
     "metadata": {},
     "output_type": "execute_result"
    }
   ],
   "source": [
    "# Reading the x_test dataset\n",
    "test_time_series = pd.read_csv(\"test_time_series.csv\")\n",
    "test_time_series.head()\n",
    "#len(test_time_series)\n",
    "x_test = test_time_series[[\"x\", \"y\",\"z\"]]            # Cleaning the dataset\n",
    "\n",
    "#x_test = x_test.sample(125, replace=False)\n",
    "x_test = x_test.values.reshape(-1,10,3)             # Reshaping x_test to get the desired shape\n",
    "x_test = x_test.reshape(len(x_test),-1)\n",
    "x_test.shape"
   ]
  },
  {
   "cell_type": "code",
   "execution_count": 102,
   "metadata": {},
   "outputs": [
    {
     "name": "stdout",
     "output_type": "stream",
     "text": [
      "The code runtime is 0.005639791488647461 seconds \n"
     ]
    }
   ],
   "source": [
    "# Finding the predicted labels\n",
    "# Determining the runtime\n",
    "start_time = time.time()\n",
    "\n",
    "pred_labels = model.predict(x_test)\n",
    "pred_labels\n",
    "print(\"The code runtime is %s seconds \" % (time.time() - start_time))   # Running time in seconds\n",
    "\n",
    "\n"
   ]
  },
  {
   "cell_type": "code",
   "execution_count": 97,
   "metadata": {},
   "outputs": [],
   "source": [
    "# Saving the predicted labels as a csv file\n",
    "\n",
    "pred_labels\n",
    "\n",
    "np.savetxt('pred_labels.csv', [pred_labels], delimiter=',', fmt='%d', header = 'Predicted labels')\n",
    "from numpy import genfromtxt\n",
    "my_data = genfromtxt('pred_labels.csv', delimiter=',')  # verifying if pred_labels was saved right\n"
   ]
  },
  {
   "cell_type": "code",
   "execution_count": null,
   "metadata": {},
   "outputs": [],
   "source": [
    "## Conclusion: The model I used had an acuracy of about 52% in predicting the physical activity."
   ]
  }
 ],
 "metadata": {
  "kernelspec": {
   "display_name": "Python 3",
   "language": "python",
   "name": "python3"
  },
  "language_info": {
   "codemirror_mode": {
    "name": "ipython",
    "version": 3
   },
   "file_extension": ".py",
   "mimetype": "text/x-python",
   "name": "python",
   "nbconvert_exporter": "python",
   "pygments_lexer": "ipython3",
   "version": "3.7.6"
  }
 },
 "nbformat": 4,
 "nbformat_minor": 4
}
